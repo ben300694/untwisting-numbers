{
 "cells": [
  {
   "cell_type": "code",
   "execution_count": 1,
   "metadata": {},
   "outputs": [],
   "source": [
    "# first input lists of mG (the d-invariants, which we denote d),\n",
    "# the mQ (which we denote l),\n",
    "# and the determinant of K, which we denote D.\n",
    "\n",
    "d=[0, 6/37, 24/37, -20/37, 22/37, 2/37, -6/37, -2/37, 14/37, -32/37, 8/37, -14/37, -24/37, -22/37, -8/37, -56/37, -18/37, -42/37, -54/37, -54/37, -42/37, -18/37, -56/37, -8/37, -22/37, -24/37, -14/37, 8/37, -32/37, 14/37, -2/37, -6/37, 2/37, 22/37, -20/37, 24/37, 6/37];\n",
    "l=[0, 2/37, 8/37, 18/37, 32/37, 50/37, 72/37, 98/37, 128/37, 162/37, 126/37, 94/37, 66/37, 42/37, 22/37, 6/37, -6/37, -14/37, -18/37, -18/37, -14/37, -6/37, 6/37, 22/37, 42/37, 66/37, 94/37, 126/37, 162/37, 128/37, 98/37, 72/37, 50/37, 32/37, 18/37, 8/37, 2/37];\n",
    "D=37"
   ]
  },
  {
   "cell_type": "code",
   "execution_count": 2,
   "metadata": {},
   "outputs": [],
   "source": [
    "## then print mQ[ki%D]\n",
    "\n",
    "def shiftedl(k):\n",
    "    shiftedlk = [];\n",
    "    for i in range(0,len(l)):\n",
    "        shiftedlk.append(l[(i*k)%D])\n",
    "    return shiftedlk"
   ]
  },
  {
   "cell_type": "code",
   "execution_count": 5,
   "metadata": {},
   "outputs": [],
   "source": [
    "## then compare the lists\n",
    "\n",
    "def poscompare(k):\n",
    "    compared = [];\n",
    "    if all(shiftedl(k)[i]>=d[i] for i in range(0,len(l))) and all(((shiftedl(k)[i].numerator() % (2*shiftedl(k)[i].denominator()))/(shiftedl(k)[i].denominator())) == ((d[i].numerator() % (2*d[i].denominator()))/(d[i].denominator())) for i in range(0,len(l))):\n",
    "            compared.append('success')\n",
    "    else:\n",
    "            compared.append('fail')\n",
    "    return compared\n",
    "\n",
    "def negcompare(k):\n",
    "    negcompared = [];\n",
    "    if all(shiftedl(k)[i]<=d[i] for i in range(0,len(l))) and all(((shiftedl(k)[i].numerator() % (2*shiftedl(k)[i].denominator()))/(shiftedl(k)[i].denominator())) == ((d[i].numerator() % (2*d[i].denominator()))/(d[i].denominator())) for i in range(0,len(l))):\n",
    "            negcompared.append('success')\n",
    "    else:\n",
    "            negcompared.append('fail')\n",
    "    return negcompared"
   ]
  },
  {
   "cell_type": "code",
   "execution_count": 7,
   "metadata": {},
   "outputs": [
    {
     "name": "stdout",
     "output_type": "stream",
     "text": [
      "['fail']\n",
      "['fail']\n",
      "['fail']\n",
      "['fail']\n",
      "['fail']\n",
      "['fail']\n",
      "['fail']\n",
      "['fail']\n",
      "['fail']\n",
      "['fail']\n",
      "['fail']\n",
      "['fail']\n",
      "['fail']\n",
      "['fail']\n",
      "['fail']\n",
      "['success']\n",
      "['fail']\n",
      "['fail']\n",
      "['fail']\n",
      "['fail']\n",
      "['fail']\n",
      "['fail']\n",
      "['success']\n",
      "['fail']\n",
      "['fail']\n",
      "['fail']\n",
      "['fail']\n",
      "['fail']\n",
      "['fail']\n",
      "['fail']\n",
      "['fail']\n",
      "['fail']\n",
      "['fail']\n",
      "['fail']\n",
      "['fail']\n",
      "['fail']\n",
      "['fail']\n"
     ]
    }
   ],
   "source": [
    "def congcompare(k):\n",
    "    congcompared = [];\n",
    "    if all(((shiftedl(k)[i].numerator() % (2*shiftedl(k)[i].denominator()))/(shiftedl(k)[i].denominator())) == ((d[i].numerator() % (2*d[i].denominator()))/(d[i].denominator())) for i in range(0,len(l))):\n",
    "            congcompared.append('success')\n",
    "    else:\n",
    "            congcompared.append('fail')\n",
    "    return congcompared\n",
    "\n",
    "## for every k that's not congruent to a divisor of D\n",
    "\n",
    "for k in range(0,D):\n",
    "    poscompare(k)\n",
    "    print(poscompare(k))"
   ]
  }
 ],
 "metadata": {
  "kernelspec": {
   "display_name": "SageMath 9.0",
   "language": "sage",
   "name": "sagemath"
  },
  "language_info": {
   "codemirror_mode": {
    "name": "ipython",
    "version": 3
   },
   "file_extension": ".py",
   "mimetype": "text/x-python",
   "name": "python",
   "nbconvert_exporter": "python",
   "pygments_lexer": "ipython3",
   "version": "3.8.10"
  }
 },
 "nbformat": 4,
 "nbformat_minor": 4
}
