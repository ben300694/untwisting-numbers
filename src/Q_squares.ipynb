{
 "cells": [
  {
   "cell_type": "code",
   "execution_count": 31,
   "metadata": {},
   "outputs": [],
   "source": [
    "from sage.all import *"
   ]
  },
  {
   "cell_type": "code",
   "execution_count": 3,
   "metadata": {},
   "outputs": [],
   "source": [
    "test_matrix = matrix([[1, 2, 3, 4],\n",
    "                      [1, 1, 2, 2],\n",
    "                      [1, 3, 2, 4],\n",
    "                      [2, 3, 1, 1]])"
   ]
  },
  {
   "cell_type": "code",
   "execution_count": 4,
   "metadata": {},
   "outputs": [],
   "source": [
    "def q(n):\n",
    "    return matrix([[n/2 + 1/2, 1],\n",
    "                   [1, 2]])"
   ]
  },
  {
   "cell_type": "code",
   "execution_count": 6,
   "metadata": {},
   "outputs": [
    {
     "data": {
      "text/plain": [
       "[-28   1]\n",
       "[  1   2]"
      ]
     },
     "execution_count": 6,
     "metadata": {},
     "output_type": "execute_result"
    }
   ],
   "source": [
    "q(-57)"
   ]
  },
  {
   "cell_type": "code",
   "execution_count": 7,
   "metadata": {},
   "outputs": [],
   "source": [
    "def Qd(Q = test_matrix, full = False, vectors = False):\n",
    "    \"\"\"\n",
    "    Qd computes and orders d invariants (recording short vectors) of a \n",
    "    positive-definite intersection pairing Q.\n",
    "    \n",
    "    --- Parameters ---\n",
    "    \n",
    "    Optional parameter full : bool\n",
    "    If True,\n",
    "    short characteristic covectors are taken in the full hypercube\n",
    "    -Q_ii <= K_i <= Q_ii (gets full set of short representatives)\n",
    "    If False or omitted, just look in\n",
    "    -Q_ii <= K_i<= Q_ii-2 (faster)\n",
    "    \n",
    "    Optional paramter vectors : bool\n",
    "    If True, output a list of short vectors\n",
    "    with each d invariant         \n",
    "    \"\"\"\n",
    "    # Global variable\n",
    "    pointer = 0\n",
    "    \n",
    "    \n",
    "    # List of local variables used in the function\n",
    "    #\n",
    "    # p, rank(Q), Qinv, K, sqK, dK, QinvK, dlist, QinvKlist, topadjust, Klistno, pointer, i, tempcount,\n",
    "    # newclassflag, nextK, m, Korder, spinfound, spinindex, S, Uq, biggerthanone, exponents, numberexp, darray, thiselementindex, indexvector, j\n",
    "\n",
    "    #############################################################################    \n",
    "    # nextK moves K to the next characteristic vector in the 'hypercuboid'\n",
    "    def nextK():\n",
    "        nonlocal pointer \n",
    "        # 'nonlocal' keyword so that the inner function can modify\n",
    "        # the variable pointer in the outer scope\n",
    "        if K[pointer] < m[pointer]-2+topadjust:\n",
    "            K[pointer] = K[pointer]+2 \n",
    "        else:\n",
    "            K[pointer] = -m[pointer] \n",
    "            pointer = pointer+1\n",
    "            if pointer < rank(Q):\n",
    "                nextK()\n",
    "            else:\n",
    "                K[rank(Q)-1] = m[rank(Q)-1]+topadjust\n",
    "        return\n",
    "    #############################################################################\n",
    "\n",
    "    p = Q.determinant()\n",
    "    Qinv = Q.inverse()\n",
    "    dlist = [0 for i in range(0, p)]\n",
    "    QinvKlist = [0 for i in range(0, p)]\n",
    "    m = vector([Q[i,i] for i in range(0, rank(Q))])\n",
    "    K = -m\n",
    "\n",
    "    if full:\n",
    "        topadjust = 2\n",
    "    else:\n",
    "        topadjust = 0\n",
    "    \n",
    "    Klistno = 0\n",
    "    spinfound = False\n",
    "    \n",
    "    while K[rank(Q)-1] <= m[rank(Q)-1]-2+topadjust:\n",
    "        pointer = 0\n",
    "\n",
    "        QinvK = (1/2)*Qinv*K\n",
    "        dK = (2*K*QinvK - rank(Q))/4\n",
    "        QinvK = [QinvK[i] for i in range(0, rank(Q))]\n",
    "\n",
    "        newclassflag = True\n",
    "\n",
    "        for i in range(0, Klistno):\n",
    "            while newclassflag:\n",
    "                # In the Maple program this if statement was\n",
    "                # if nops(remove(is,op(2,op(1,QinvKlist[i]))-QinvK,integer)) == 0:\n",
    "                #\n",
    "                # Maple documentation for function ops:\n",
    "                # https://www.maplesoft.com/support/help/maple/view.aspx?path=op\n",
    "                if len([x for x in (QinvKlist[i][0][1] - QinvK) if not x.is_integer()]) == 0:\n",
    "                    newclassflag = False\n",
    "\n",
    "        if newclassflag:\n",
    "            Klistno = Klistno + 1 \n",
    "            dlist[Klistno] = dK\n",
    "            if not spinfound:\n",
    "                # if 2* the elements in the list are all integers:\n",
    "                if len([p for p in map(lambda x : 2*x, QinvK) if not p.is_integer()]) == 0:\n",
    "                    spinfound = True\n",
    "                    spinindex = Klistno\n",
    "            QinvKlist[Klistno] = [[vector(K), QinvK]];\n",
    "        else: # if newclassflag:\n",
    "            if dK == dlist[i-1]:\n",
    "                QinvKlist[i-1] = QinvKlist[i-1].extend([vector(K), QinvK])\n",
    "            if dK < dlist[i-1]:\n",
    "                dlist[i-1] = dK\n",
    "                QinvKlist[i-1] = [[vector(K), QinvK]]\n",
    "\n",
    "        nextK() # END while K[rank(Q)] <= m[rank(Q)]-2+topadjust:\n",
    "    \n",
    "    S, Uq, _ = Q.smith_form() # smith_form() returns a list with three elements, the first being the diagonal form\n",
    "    biggerthanone = True\n",
    "    exponents = []\n",
    "\n",
    "    # the -1 in range(rank(Q), 0, -1) makes the index i count downwards\n",
    "    for i in range(rank(Q), 0, -1):\n",
    "        while biggerthanone:\n",
    "            if S[i,i] == 1:\n",
    "                biggerthanone = False\n",
    "            else:\n",
    "                exponents = range(0, S[i,i]) + exponents\n",
    "\n",
    "    numberexp = len(exponents)\n",
    "    darray = exponents\n",
    "    \n",
    "    for i in range(1, p):\n",
    "        thiselementindex = []\n",
    "        # to concatenate the vectors v1 and v2 use\n",
    "        # vector( list(v1) + list(v2) )\n",
    "        right_vector = vector(list([1,1]) + list(QinvKlist[i])) - vector(list([1,1]) + list(QinvKlist[spinindex]))\n",
    "        indexvector = (1/2)*Uq*right_vector\n",
    "        for j in range(rank(Q) - numberexp + 1, rank(Q)):\n",
    "            thiselementindex = thiselementindex.append(indexvector[j] % S[j,j])\n",
    "            if vectors:\n",
    "                darray[thiselementindex] = dlist[i].extend([[l, 1].append(QinvKlist[i]) for l in range(0, len(QinvKlist[i]))])\n",
    "            else:\n",
    "                darray[op(thiselementindex)] = dlist[i]\n",
    "    \n",
    "    return darray"
   ]
  },
  {
   "cell_type": "code",
   "execution_count": 8,
   "metadata": {},
   "outputs": [
    {
     "data": {
      "text/plain": [
       "-57"
      ]
     },
     "execution_count": 8,
     "metadata": {},
     "output_type": "execute_result"
    }
   ],
   "source": [
    "# Assume the given knot has untwisting number +1\n",
    "# (can be unknotted with a single left-handed nullhomologous twist).\n",
    "# Then Corollary 4.6 of “Untwisting information” applies to K. (https://arxiv.org/abs/1604.03033)\n",
    "\n",
    "# Compute the negative definite Goeritz matrix G of K and input it into SageMath\n",
    "G_10_68 = matrix([[-4,  1,  1,  0,  0,  1,  0],\n",
    "                  [ 1, -3,  0,  0,  1,  0,  0],\n",
    "                  [ 1,  0, -2,  1,  0,  0,  0],\n",
    "                  [ 0,  0,  1, -2,  1,  0,  0],\n",
    "                  [ 0,  1,  0,  1, -3,  0,  1],\n",
    "                  [ 1,  0,  0,  0,  0, -2,  1],\n",
    "                  [ 0,  0,  0,  0,  1,  1, -2]])\n",
    "# G_10_68 is negative definite, and has determinant -57\n",
    "G_10_68.determinant()\n",
    "\n",
    "\n",
    "# The values of mG mod 2 should be\n",
    "# 0 98/57 50/57 28/19 86/57 56/57 36/19 14/57 2/57\n",
    "# 24/19 110/57 2/57 30/19 32/57 56/57 16/19 8/57 50/57\n",
    "# 20/19 2/3 98/57 4/19 8/57 86/57 6/19 32/57 14/57\n",
    "# 26/19 110/57 110/57 26/19 14/57 32/57 6/19 86/57 8/57\n",
    "# 4/19 98/57 2/3 20/19 50/57 8/57 16/19 56/57 32/57\n",
    "# 30/19 2/57 110/57 24/19 2/57 14/57 36/19 56/57 86/57\n",
    "# 28/19 50/57 98/57."
   ]
  },
  {
   "cell_type": "code",
   "execution_count": 9,
   "metadata": {},
   "outputs": [
    {
     "ename": "TypeError",
     "evalue": "'sage.rings.integer.Integer' object is not subscriptable",
     "output_type": "error",
     "traceback": [
      "\u001b[0;31m---------------------------------------------------------------------------\u001b[0m",
      "\u001b[0;31mTypeError\u001b[0m                                 Traceback (most recent call last)",
      "\u001b[0;32m<ipython-input-9-5217ac7c85dc>\u001b[0m in \u001b[0;36m<module>\u001b[0;34m\u001b[0m\n\u001b[1;32m      7\u001b[0m \u001b[0;31m# Compute the list of d-invariants of the double branched cover of K from the Goeritz matrix.\u001b[0m\u001b[0;34m\u001b[0m\u001b[0;34m\u001b[0m\u001b[0;34m\u001b[0m\u001b[0m\n\u001b[1;32m      8\u001b[0m \u001b[0;34m\u001b[0m\u001b[0m\n\u001b[0;32m----> 9\u001b[0;31m \u001b[0mdg\u001b[0m \u001b[0;34m=\u001b[0m \u001b[0mQd\u001b[0m\u001b[0;34m(\u001b[0m\u001b[0;34m-\u001b[0m\u001b[0mG\u001b[0m\u001b[0;34m,\u001b[0m \u001b[0;32mTrue\u001b[0m\u001b[0;34m,\u001b[0m \u001b[0;32mFalse\u001b[0m\u001b[0;34m)\u001b[0m\u001b[0;34m\u001b[0m\u001b[0;34m\u001b[0m\u001b[0m\n\u001b[0m\u001b[1;32m     10\u001b[0m \u001b[0mm_G\u001b[0m \u001b[0;34m=\u001b[0m \u001b[0;34m[\u001b[0m\u001b[0mdg\u001b[0m\u001b[0;34m[\u001b[0m\u001b[0mi\u001b[0m\u001b[0;34m]\u001b[0m \u001b[0;32mfor\u001b[0m \u001b[0mi\u001b[0m \u001b[0;32min\u001b[0m \u001b[0mrange\u001b[0m\u001b[0;34m(\u001b[0m\u001b[0mInteger\u001b[0m\u001b[0;34m(\u001b[0m\u001b[0;36m0\u001b[0m\u001b[0;34m)\u001b[0m\u001b[0;34m,\u001b[0m \u001b[0mdeterminant\u001b[0m\u001b[0;34m(\u001b[0m\u001b[0mG\u001b[0m\u001b[0;34m)\u001b[0m\u001b[0;34m)\u001b[0m\u001b[0;34m]\u001b[0m \u001b[0;31m# list the m_G from the previous step.\u001b[0m\u001b[0;34m\u001b[0m\u001b[0;34m\u001b[0m\u001b[0m\n\u001b[1;32m     11\u001b[0m \u001b[0mdq\u001b[0m \u001b[0;34m=\u001b[0m \u001b[0mQd\u001b[0m\u001b[0;34m(\u001b[0m\u001b[0mq\u001b[0m\u001b[0;34m(\u001b[0m\u001b[0mDeterminant\u001b[0m\u001b[0;34m(\u001b[0m\u001b[0mG\u001b[0m\u001b[0;34m)\u001b[0m\u001b[0;34m)\u001b[0m\u001b[0;34m,\u001b[0m \u001b[0;32mTrue\u001b[0m\u001b[0;34m,\u001b[0m \u001b[0;32mFalse\u001b[0m\u001b[0;34m)\u001b[0m \u001b[0;31m# list the m_Q.\u001b[0m\u001b[0;34m\u001b[0m\u001b[0;34m\u001b[0m\u001b[0m\n",
      "\u001b[0;32m<ipython-input-7-0cadadfaf6c0>\u001b[0m in \u001b[0;36mQd\u001b[0;34m(Q, full, vectors)\u001b[0m\n\u001b[1;32m     73\u001b[0m                 \u001b[0;31m# Maple documentation for function ops:\u001b[0m\u001b[0;34m\u001b[0m\u001b[0;34m\u001b[0m\u001b[0;34m\u001b[0m\u001b[0m\n\u001b[1;32m     74\u001b[0m                 \u001b[0;31m# https://www.maplesoft.com/support/help/maple/view.aspx?path=op\u001b[0m\u001b[0;34m\u001b[0m\u001b[0;34m\u001b[0m\u001b[0;34m\u001b[0m\u001b[0m\n\u001b[0;32m---> 75\u001b[0;31m                 \u001b[0;32mif\u001b[0m \u001b[0mlen\u001b[0m\u001b[0;34m(\u001b[0m\u001b[0;34m[\u001b[0m\u001b[0mx\u001b[0m \u001b[0;32mfor\u001b[0m \u001b[0mx\u001b[0m \u001b[0;32min\u001b[0m \u001b[0;34m(\u001b[0m\u001b[0mQinvKlist\u001b[0m\u001b[0;34m[\u001b[0m\u001b[0mi\u001b[0m\u001b[0;34m]\u001b[0m\u001b[0;34m[\u001b[0m\u001b[0mInteger\u001b[0m\u001b[0;34m(\u001b[0m\u001b[0;36m0\u001b[0m\u001b[0;34m)\u001b[0m\u001b[0;34m]\u001b[0m\u001b[0;34m[\u001b[0m\u001b[0mInteger\u001b[0m\u001b[0;34m(\u001b[0m\u001b[0;36m1\u001b[0m\u001b[0;34m)\u001b[0m\u001b[0;34m]\u001b[0m \u001b[0;34m-\u001b[0m \u001b[0mQinvK\u001b[0m\u001b[0;34m)\u001b[0m \u001b[0;32mif\u001b[0m \u001b[0;32mnot\u001b[0m \u001b[0mx\u001b[0m\u001b[0;34m.\u001b[0m\u001b[0mis_integer\u001b[0m\u001b[0;34m(\u001b[0m\u001b[0;34m)\u001b[0m\u001b[0;34m]\u001b[0m\u001b[0;34m)\u001b[0m \u001b[0;34m==\u001b[0m \u001b[0mInteger\u001b[0m\u001b[0;34m(\u001b[0m\u001b[0;36m0\u001b[0m\u001b[0;34m)\u001b[0m\u001b[0;34m:\u001b[0m\u001b[0;34m\u001b[0m\u001b[0;34m\u001b[0m\u001b[0m\n\u001b[0m\u001b[1;32m     76\u001b[0m                     \u001b[0mnewclassflag\u001b[0m \u001b[0;34m=\u001b[0m \u001b[0;32mFalse\u001b[0m\u001b[0;34m\u001b[0m\u001b[0;34m\u001b[0m\u001b[0m\n\u001b[1;32m     77\u001b[0m \u001b[0;34m\u001b[0m\u001b[0m\n",
      "\u001b[0;31mTypeError\u001b[0m: 'sage.rings.integer.Integer' object is not subscriptable"
     ]
    }
   ],
   "source": [
    "# Execute the cells with the definition of the function Qd and its dependencies\n",
    "# and to define the family of matrices q(n) = Q_n \n",
    "# representing the intersection pairing on the 4-manifold with boundary\n",
    "# ±the double branched cover of K (guaranteed by Corollary 4.6).\n",
    "G = G_10_68\n",
    "\n",
    "# Compute the list of d-invariants of the double branched cover of K from the Goeritz matrix.\n",
    "\n",
    "dg = Qd(-G, True, False)\n",
    "m_G = [dg[i] for i in range(0, determinant(G))] # list the m_G from the previous step.\n",
    "dq = Qd(q(Determinant(G)), True, False) # list the m_Q.\n",
    "\n",
    "# If the lists of the m_G and m_Q are not equal modulo 2 (up to reordering),\n",
    "# then we have successfully obstructed tu(K) = +1.\n",
    "# If they are equal, we can still try to obstruct\n",
    "# the existence of isomorphisms using something like the attached Sage worksheet.\n",
    "\n",
    "# To obstruct tu(K) = -1,\n",
    "# compute the Goeritz matrix G’ of mirror(K) and repeat the above steps."
   ]
  }
 ],
 "metadata": {
  "kernelspec": {
   "display_name": "SageMath 9.0",
   "language": "sage",
   "name": "sagemath"
  },
  "language_info": {
   "codemirror_mode": {
    "name": "ipython",
    "version": 3
   },
   "file_extension": ".py",
   "mimetype": "text/x-python",
   "name": "python",
   "nbconvert_exporter": "python",
   "pygments_lexer": "ipython3",
   "version": "3.8.10"
  }
 },
 "nbformat": 4,
 "nbformat_minor": 2
}
