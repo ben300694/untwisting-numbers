{
 "cells": [
  {
   "cell_type": "code",
   "execution_count": 1,
   "metadata": {},
   "outputs": [],
   "source": [
    "from sage.all import *"
   ]
  },
  {
   "cell_type": "code",
   "execution_count": 2,
   "metadata": {},
   "outputs": [],
   "source": [
    "test_matrix = matrix([[1, 2, 3, 4],\n",
    "                      [1, 1, 2, 2],\n",
    "                      [1, 3, 2, 4],\n",
    "                      [2, 3, 1, 1]])"
   ]
  },
  {
   "cell_type": "code",
   "execution_count": 13,
   "metadata": {},
   "outputs": [
    {
     "data": {
      "text/plain": [
       "(-1, -2, -3, -4)"
      ]
     },
     "execution_count": 13,
     "metadata": {},
     "output_type": "execute_result"
    }
   ],
   "source": [
    "-vector([1,2,3,4])"
   ]
  },
  {
   "cell_type": "code",
   "execution_count": 15,
   "metadata": {},
   "outputs": [
    {
     "ename": "SyntaxError",
     "evalue": "invalid syntax (<ipython-input-15-9c871f60c5a3>, line 43)",
     "output_type": "error",
     "traceback": [
      "\u001b[0;36m  File \u001b[0;32m\"<ipython-input-15-9c871f60c5a3>\"\u001b[0;36m, line \u001b[0;32m43\u001b[0m\n\u001b[0;31m    topadjust:=`if`(full,Integer(2),Integer(0));\u001b[0m\n\u001b[0m             ^\u001b[0m\n\u001b[0;31mSyntaxError\u001b[0m\u001b[0;31m:\u001b[0m invalid syntax\n"
     ]
    }
   ],
   "source": [
    "def Qd(Q = test_matrix, full = false, vectors = false):\n",
    "    \"\"\"\n",
    "    Qd computes and orders d invariants (recording short vectors) of a \n",
    "    positive-definite\n",
    "    intersection pairing Q.\n",
    "\n",
    "    Optional parameter full:\n",
    "    if true,\n",
    "    short characteristic covectors are taken in the full hypercube\n",
    "    -Q_ii <= K_i <= Q_ii (gets full set of short representatives)\n",
    "    If false or omitted, just look in\n",
    "    -Q_ii <= K_i<= Q_ii-2 (faster)\n",
    "    Optional paramter vectors: if true, output a list of short vectors\n",
    "    with each d invariant         \n",
    "    \"\"\"\n",
    "    # List of local variables used in the function\n",
    "    #\n",
    "    # p, rank(Q), Qinv, K, sqK, dK, QinvK, dlist, QinvKlist, topadjust, Klistno, pointer, i, tempcount,\n",
    "    # newclassflag, nextK, m, Korder, spinfound, spinindex, S, Uq, biggerthanone, exponents, numberexp, darray, thiselementindex, indexvector, j\n",
    "\n",
    "    #############################################################################    \n",
    "    # nextK moves K to the next characteristic vector in the 'hypercuboid'\n",
    "    def nextK():\n",
    "        if K[pointer] < m[pointer]-2+topadjust:\n",
    "            K[pointer] = K[pointer]+2 \n",
    "        else:\n",
    "            K[pointer] = -m[pointer] \n",
    "            pointer = pointer+1\n",
    "            if pointer <= rank(Q):\n",
    "                nextK()\n",
    "            else:\n",
    "                K[rank(Q)] = m[rank(Q)]+topadjust \n",
    "    #############################################################################\n",
    "\n",
    "\n",
    "    p = determinant(Q)\n",
    "    Qinv = Q.inverse()\n",
    "    dlist = [0 for i in range(0, p)]\n",
    "    QinvKlist = [0 for i in range(0, p)]\n",
    "    m = vector([Q[i,i] for i in range(0, rank(Q))])\n",
    "    K = -m\n",
    "\n",
    "    topadjust:=`if`(full,2,0);\n",
    "    Klistno:=0;\n",
    "    spinfound:=false;\n",
    "    while K[rank(Q)] <= m[rank(Q)]-2+topadjust:\n",
    "        pointer = 1\n",
    "\n",
    "        QinvK:=(1/2).Qinv.K;\n",
    "        dK:=(2*DotProduct(K,QinvK)-rank(Q))/4;\n",
    "        QinvK:=[seq(QinvK[i],i=1..rank(Q))];\n",
    "\n",
    "        newclassflag:=true;\n",
    "\n",
    "        for i from 1 to Klistno while newclassflag do\n",
    "            if nops(remove(is,op(2,op(1,QinvKlist[i]))-QinvK,integer))=0 then newclassflag:=false;\n",
    "            fi;\n",
    "        od;\n",
    "\n",
    "        if newclassflag then\n",
    "            Klistno:=Klistno+1; \n",
    "            dlist[Klistno]:=dK;\n",
    "\n",
    "        if not spinfound then\n",
    "            if nops(remove(is,map(x-&gt;2*x,QinvK),integer))=0 then spinfound:=true; spinindex:=Klistno fi;\n",
    "\n",
    "        QinvKlist[Klistno]:=[[convert(K,Vector),QinvK]];\n",
    "        else\n",
    "            if dK=dlist[i-1] then QinvKlist[i-1]:=[op(QinvKlist[i-1]),[convert(K,Vector),QinvK]] fi;\n",
    "            if dK<dlist[i-1] then dlist[i-1]:=dK; QinvKlist[i-1]:=[[convert(K,Vector),QinvK]] fi;\n",
    "\n",
    "        nextK();\n",
    "    \n",
    "    S:=SmithForm(Q);\n",
    "    Uq:=SmithForm(Q,output='U');\n",
    "    biggerthanone:=true;\n",
    "    exponents:=[];\n",
    "\n",
    "    for i from rank(Q) by -1 to 1 while biggerthanone do\n",
    "        if S[i,i]=1 then biggerthanone=false\n",
    "        else exponents:=[0..S[i,i]-1,op(exponents)]\n",
    "        fi; #if S[i,i]=1\n",
    "    od; #for i\n",
    "\n",
    "    numberexp:=nops(exponents);\n",
    "    darray:=Array(op(exponents));\n",
    "\n",
    "    for i from 1 to p do\n",
    "        thiselementindex:=[];\n",
    "        indexvector:=(1/2).Uq.(op([1,1],QinvKlist[i])-op([1,1],QinvKlist[spinindex]));\n",
    "        for j from rank(Q)-numberexp+1 to rank(Q) do\n",
    "        thiselementindex:=[op(thiselementindex),indexvector[j] mod S[j,j]] od;# for j\n",
    "        darray[op(thiselementindex)]:=`if`(vectors,[dlist[i],[seq(op([j,1],QinvKlist[i]),j=1..nops(QinvKlist[i]))]],dlist[i]);\n",
    "        od; #for i\n",
    "\n",
    "    return darray\n"
   ]
  },
  {
   "cell_type": "code",
   "execution_count": null,
   "metadata": {},
   "outputs": [],
   "source": []
  }
 ],
 "metadata": {
  "kernelspec": {
   "display_name": "SageMath 8.8",
   "language": "sage",
   "name": "sagemath"
  },
  "language_info": {
   "codemirror_mode": {
    "name": "ipython",
    "version": 2
   },
   "file_extension": ".py",
   "mimetype": "text/x-python",
   "name": "python",
   "nbconvert_exporter": "python",
   "pygments_lexer": "ipython2",
   "version": "2.7.15"
  }
 },
 "nbformat": 4,
 "nbformat_minor": 2
}
