{
 "cells": [
  {
   "cell_type": "code",
   "execution_count": 1,
   "metadata": {},
   "outputs": [],
   "source": [
    "from sage.all import *"
   ]
  },
  {
   "cell_type": "code",
   "execution_count": 2,
   "metadata": {},
   "outputs": [],
   "source": [
    "test_matrix = matrix([[1, 2, 3, 4],\n",
    "                      [1, 1, 2, 2],\n",
    "                      [1, 3, 2, 4],\n",
    "                      [2, 3, 1, 1]])"
   ]
  },
  {
   "cell_type": "code",
   "execution_count": 13,
   "metadata": {},
   "outputs": [
    {
     "data": {
      "text/plain": [
       "(-1, -2, -3, -4)"
      ]
     },
     "execution_count": 13,
     "metadata": {},
     "output_type": "execute_result"
    }
   ],
   "source": [
    "-vector([1,2,3,4])"
   ]
  },
  {
   "cell_type": "code",
   "execution_count": 6,
   "metadata": {},
   "outputs": [
    {
     "ename": "SyntaxError",
     "evalue": "invalid syntax (<ipython-input-6-117db47cb15f>, line 63)",
     "output_type": "error",
     "traceback": [
      "\u001b[0;36m  File \u001b[0;32m\"<ipython-input-6-117db47cb15f>\"\u001b[0;36m, line \u001b[0;32m63\u001b[0m\n\u001b[0;31m    if nops(remove(is,op(Integer(2),op(Integer(1),QinvKlist[i]))-QinvK,integer)) == Integer(0):\u001b[0m\n\u001b[0m                   ^\u001b[0m\n\u001b[0;31mSyntaxError\u001b[0m\u001b[0;31m:\u001b[0m invalid syntax\n"
     ]
    }
   ],
   "source": [
    "def Qd(Q = test_matrix, full = False, vectors = False):\n",
    "    \"\"\"\n",
    "    Qd computes and orders d invariants (recording short vectors) of a \n",
    "    positive-definite\n",
    "    intersection pairing Q.\n",
    "\n",
    "    Optional parameter full:\n",
    "    if true,\n",
    "    short characteristic covectors are taken in the full hypercube\n",
    "    -Q_ii <= K_i <= Q_ii (gets full set of short representatives)\n",
    "    If false or omitted, just look in\n",
    "    -Q_ii <= K_i<= Q_ii-2 (faster)\n",
    "    Optional paramter vectors: if true, output a list of short vectors\n",
    "    with each d invariant         \n",
    "    \"\"\"\n",
    "    # List of local variables used in the function\n",
    "    #\n",
    "    # p, rank(Q), Qinv, K, sqK, dK, QinvK, dlist, QinvKlist, topadjust, Klistno, pointer, i, tempcount,\n",
    "    # newclassflag, nextK, m, Korder, spinfound, spinindex, S, Uq, biggerthanone, exponents, numberexp, darray, thiselementindex, indexvector, j\n",
    "\n",
    "    #############################################################################    \n",
    "    # nextK moves K to the next characteristic vector in the 'hypercuboid'\n",
    "    def nextK():\n",
    "        if K[pointer] < m[pointer]-2+topadjust:\n",
    "            K[pointer] = K[pointer]+2 \n",
    "        else:\n",
    "            K[pointer] = -m[pointer] \n",
    "            pointer = pointer+1\n",
    "            if pointer <= rank(Q):\n",
    "                nextK()\n",
    "            else:\n",
    "                K[rank(Q)] = m[rank(Q)]+topadjust \n",
    "    #############################################################################\n",
    "\n",
    "\n",
    "    p = determinant(Q)\n",
    "    Qinv = Q.inverse()\n",
    "    dlist = [0 for i in range(0, p)]\n",
    "    QinvKlist = [0 for i in range(0, p)]\n",
    "    m = vector([Q[i,i] for i in range(0, rank(Q))])\n",
    "    K = -m\n",
    "\n",
    "    if full:\n",
    "        topadjust = 2\n",
    "    else:\n",
    "        topadjust = 0\n",
    "    \n",
    "    Klistno = 0\n",
    "    spinfound = False\n",
    "    while K[rank(Q)] <= m[rank(Q)]-2+topadjust:\n",
    "        pointer = 1\n",
    "\n",
    "        QinvK = (1/2)*Qinv*K\n",
    "        dK = (2*K*QinvK-rank(Q))/4\n",
    "        QinvK = [QinvK[i] for i in range(0, rank(Q))]\n",
    "\n",
    "        newclassflag = True\n",
    "\n",
    "        for i in range(0, Klistno):\n",
    "            while newclassflag:\n",
    "                # TODO Find out what this line is doing\n",
    "                # https://www.maplesoft.com/support/help/maple/view.aspx?path=op\n",
    "                if nops(remove(is,op(2,op(1,QinvKlist[i]))-QinvK,integer)) == 0: # TODO\n",
    "                    newclassflag = False\n",
    "\n",
    "        if newclassflag:\n",
    "            Klistno = Klistno + 1 \n",
    "            dlist[Klistno] = dK\n",
    "\n",
    "        if not spinfound:\n",
    "            # TODO Find out what this line is doing\n",
    "            if nops(remove(is,map(x-&gt;2*x,QinvK),integer)) == 0:\n",
    "                then spinfound = True\n",
    "                spinindex = Klistno\n",
    "            QinvKlist[Klistno] = [[vector(K), QinvK]];\n",
    "        else:\n",
    "            if dK == dlist[i-1]:\n",
    "                QinvKlist[i-1] = [op(QinvKlist[i-1]),[convert(K,Vector),QinvK]]\n",
    "            if dK < dlist[i-1]:\n",
    "                dlist[i-1] = dK\n",
    "                QinvKlist[i-1] = [[vector(K), QinvK]]\n",
    "\n",
    "        nextK() # end while\n",
    "    \n",
    "    S, Uq, _ = Q.smith_form(0) # smith_form() returns a list with three elements, the first being the diagonal form\n",
    "    biggerthanone = True\n",
    "    exponents = []\n",
    "\n",
    "    # the -1 in range(rank(Q), 0, -1) makes it count downwards\n",
    "    for i in range(rank(Q), 0, -1):\n",
    "        while biggerthanone:\n",
    "            if S[i,i] == 1:\n",
    "                biggerthanone = False\n",
    "            else:\n",
    "                exponents = [0..S[i,i]-1,op(exponents)] # TODO\n",
    "\n",
    "    numberexp = nops(exponents); # TODO\n",
    "    darray = Array(op(exponents)); # TODO\n",
    "\n",
    "    for i in range(1,p):\n",
    "        thiselementindex = []\n",
    "        indexvector = (1/2).Uq.(op([1,1],QinvKlist[i])-op([1,1],QinvKlist[spinindex])); # TODO\n",
    "        for j in range(rank(Q)-numberexp+1, rank(Q)):\n",
    "            thiselementindex:=[op(thiselementindex),indexvector[j] mod S[j,j]] od; # TODO\n",
    "        darray[op(thiselementindex)]:=`if`(vectors,[dlist[i],[seq(op([j,1],QinvKlist[i]),j=1..nops(QinvKlist[i]))]],dlist[i]); # TODO\n",
    "\n",
    "    return darray\n"
   ]
  },
  {
   "cell_type": "code",
   "execution_count": 4,
   "metadata": {},
   "outputs": [
    {
     "ename": "NameError",
     "evalue": "name 'SmithNormalForm' is not defined",
     "output_type": "error",
     "traceback": [
      "\u001b[0;31m---------------------------------------------------------------------------\u001b[0m",
      "\u001b[0;31mNameError\u001b[0m                                 Traceback (most recent call last)",
      "\u001b[0;32m<ipython-input-4-eecf40f58c6a>\u001b[0m in \u001b[0;36m<module>\u001b[0;34m\u001b[0m\n\u001b[0;32m----> 1\u001b[0;31m \u001b[0mSmithNormalForm\u001b[0m\u001b[0;34m(\u001b[0m\u001b[0mtest_matrix\u001b[0m\u001b[0;34m)\u001b[0m\u001b[0;34m\u001b[0m\u001b[0;34m\u001b[0m\u001b[0m\n\u001b[0m",
      "\u001b[0;31mNameError\u001b[0m: name 'SmithNormalForm' is not defined"
     ]
    }
   ],
   "source": [
    "test_matrix."
   ]
  }
 ],
 "metadata": {
  "kernelspec": {
   "display_name": "SageMath 9.0",
   "language": "sage",
   "name": "sagemath"
  },
  "language_info": {
   "codemirror_mode": {
    "name": "ipython",
    "version": 3
   },
   "file_extension": ".py",
   "mimetype": "text/x-python",
   "name": "python",
   "nbconvert_exporter": "python",
   "pygments_lexer": "ipython3",
   "version": "3.8.10"
  }
 },
 "nbformat": 4,
 "nbformat_minor": 2
}
